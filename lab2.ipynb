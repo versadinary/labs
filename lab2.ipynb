{
 "cells": [
  {
   "cell_type": "code",
   "execution_count": 3,
   "metadata": {},
   "outputs": [],
   "source": [
    "import numpy as np\n",
    "import sympy as sp\n",
    "import matplotlib.pyplot as plt\n",
    "from scipy.optimize import root_scalar\n",
    "import math"
   ]
  },
  {
   "cell_type": "code",
   "execution_count": 11,
   "metadata": {},
   "outputs": [
    {
     "name": "stdout",
     "output_type": "stream",
     "text": [
      "0 0\n",
      "x:  (4.000000000000001+0j)\n",
      "x:  (-2.9999999999999996+1.4712528508090617e-08j)\n",
      "x:  (-2.9999999999999996-1.4712528508090617e-08j)\n"
     ]
    },
    {
     "data": {
      "image/png": "[encoded data removed]",
      "text/plain": [
       "<Figure size 640x480 with 1 Axes>"
      ]
     },
     "metadata": {},
     "output_type": "display_data"
    }
   ],
   "source": [
    "# task 1\n",
    "\n",
    "def f(x):\n",
    "    return x**3 + 2 * x**2 - 15 * x - 36\n",
    "\n",
    "def plotter(roots):\n",
    "    x = np.linspace(-10, 10, 1000)\n",
    "    y = f(x)\n",
    "\n",
    "    plt.plot(x, y, color = 'green')\n",
    "    plt.xlabel('x')\n",
    "    plt.ylabel('f(x)')\n",
    "\n",
    "    for root in roots:\n",
    "        print(\"x: \", root)\n",
    "        x1 = np.linspace(root - 0.5, root + 0.5, 1000)\n",
    "        y1 = f(x1)\n",
    "        #plt.plot(x1, y1, color = 'orange')\n",
    "        plt.plot([root - 0.5, root + 0.5],[0, 0], color = 'orange')\n",
    "        plt.scatter(root, f(root), color = 'red')\n",
    "\n",
    "    # ax = plt.gca()\n",
    "    # ax.axhline(y=0, color='k')\n",
    "    # ax.axvline(x=0, color='k')\n",
    "    \n",
    "    plt.grid()\n",
    "    plt.show()\n",
    "\n",
    "p = [1, 2, -15, -36]\n",
    "roots = np.roots(p)\n",
    "print(f(4), f(-3))\n",
    "plotter(roots)\n",
    "\n",
    "# Одинарная кратность: x = 4"
   ]
  },
  {
   "cell_type": "code",
   "execution_count": null,
   "metadata": {},
   "outputs": [
    {
     "name": "stdout",
     "output_type": "stream",
     "text": [
      "31\n"
     ]
    },
    {
     "data": {
      "text/plain": [
       "3.999999999650754"
      ]
     },
     "execution_count": 25,
     "metadata": {},
     "output_type": "execute_result"
    }
   ],
   "source": [
    "# task 2\n",
    "\n",
    "def binarySearch(f, a, b, eps):\n",
    "    count = 0\n",
    "    c = (a + b) / 2\n",
    "    while (abs(f(a) - f(b)) > eps):\n",
    "        count += 1\n",
    "        if (f(c) * f(a) < 0):\n",
    "            b = c\n",
    "        else:\n",
    "            a = c\n",
    "        c = (a + b) / 2\n",
    "    print(count)\n",
    "    return c\n",
    "\n",
    "\n",
    "binarySearch(f, 2.5, 5.0, 0.0000001)"
   ]
  },
  {
   "cell_type": "code",
   "execution_count": null,
   "metadata": {},
   "outputs": [
    {
     "name": "stdout",
     "output_type": "stream",
     "text": [
      "5\n",
      "4.00000000000004\n",
      "3\n",
      "-3.00000000068047\n"
     ]
    }
   ],
   "source": [
    "# task 3-4\n",
    "\n",
    "# первый способ\n",
    "\n",
    "x = sp.symbols('x')\n",
    "f = x**3 + 2 * x**2 - 15 * x - 36\n",
    "eps = 0.00001\n",
    "\n",
    "\n",
    "def newton_1(f, x0, eps, p):\n",
    "    count = 0\n",
    "    a = x0\n",
    "    x0 = x0 - p * f.subs(x, x0) / sp.diff(f, x).subs(x, x0)\n",
    "    while (abs(a - x0) > eps):\n",
    "        a = x0\n",
    "        x0 = x0 - p * f.subs(x, x0) / sp.diff(f, x).subs(x, x0)\n",
    "        count += 1\n",
    "\n",
    "    print(count)\n",
    "    return x0\n",
    "\n",
    "print(newton_1(f, 2.5, eps, 1))\n",
    "print(newton_1(f, -5.0, eps, 2))"
   ]
  },
  {
   "cell_type": "code",
   "execution_count": 46,
   "metadata": {},
   "outputs": [
    {
     "name": "stdout",
     "output_type": "stream",
     "text": [
      "3\n"
     ]
    },
    {
     "data": {
      "text/plain": [
       "1.4142135623746899"
      ]
     },
     "execution_count": 46,
     "metadata": {},
     "output_type": "execute_result"
    }
   ],
   "source": [
    "# task 5\n",
    "\n",
    "def simpleiter(f, x0, eps, n):\n",
    "    count = 0\n",
    "    x_i = f(x0)\n",
    "    while (abs(x0 - x_i) > eps and count < n):\n",
    "        x0 = x_i\n",
    "        x_i = f(x_i)\n",
    "        count += 1\n",
    "    if (count == n):\n",
    "        print('Fail')\n",
    "        return \n",
    "    else:\n",
    "        print(count)\n",
    "        return x_i\n",
    "\n",
    "\n",
    "a = 2\n",
    "x0 = 1\n",
    "f1 = lambda x: 1/2 * (a/x + x)\n",
    "f2 = lambda x: x**2 + x - a\n",
    "f3 = lambda x: a/x\n",
    "eps = 0.00001\n",
    "simpleiter(f1, x0, eps, 10000)\n"
   ]
  },
  {
   "cell_type": "code",
   "execution_count": null,
   "metadata": {},
   "outputs": [],
   "source": [
    "# task 6\n",
    "\n",
    "def f(x):\n",
    "    return x**2 - 2\n",
    "\n",
    "sol = root_scalar(f, bracket=[0, 2])\n",
    "\n",
    "print(\"f(x) = x**2 - 2:\")\n",
    "if sol.converged:\n",
    "    print(\"\\tНайденный корень:\", sol.root)\n",
    "    print(\"\\tЧисло итераций:\", sol.iterations)\n",
    "else:\n",
    "    print(\"\\tМетод не сошелся\")\n",
    "\n",
    "\n",
    "def g(x):\n",
    "    return np.sin(x) + 1\n",
    "\n",
    "solg = root_scalar(g, bracket=[-2, 0])\n",
    "\n",
    "print(\"g(x) = sin(x) + 1:\")\n",
    "if solg.converged:\n",
    "    print(\"\\tНайденный корень:\", solg.root)\n",
    "    print(\"\\tЧисло итераций:\", solg.iterations)\n",
    "else:\n",
    "    print(\"\\tМетод не сошелся\")\n"
   ]
  },
  {
   "cell_type": "code",
   "execution_count": 52,
   "metadata": {},
   "outputs": [
    {
     "data": {
      "image/png": "[encoded data removed]",
      "text/plain": [
       "<Figure size 640x480 with 1 Axes>"
      ]
     },
     "metadata": {},
     "output_type": "display_data"
    }
   ],
   "source": [
    "# tadk 7 \n",
    "\n",
    "def f_1(x):\n",
    "    return 2 * math.sin(x) - x\n",
    "\n",
    "\n",
    "x = np.linspace(-5, 5, 1000)\n",
    "y = [f_1(i) for i in x]\n",
    "plt.plot(x, y, color = 'green')\n",
    "plt.xlabel('x')\n",
    "plt.ylabel('f(x)')\n",
    "plt.grid()\n",
    "plt.show()"
   ]
  },
  {
   "cell_type": "code",
   "execution_count": null,
   "metadata": {},
   "outputs": [],
   "source": []
  }
 ],
 "metadata": {
  "kernelspec": {
   "display_name": "base",
   "language": "python",
   "name": "python3"
  },
  "language_info": {
   "codemirror_mode": {
    "name": "ipython",
    "version": 3
   },
   "file_extension": ".py",
   "mimetype": "text/x-python",
   "name": "python",
   "nbconvert_exporter": "python",
   "pygments_lexer": "ipython3",
   "version": "3.11.7"
  }
 },
 "nbformat": 4,
 "nbformat_minor": 2
}
