{
 "cells": [
  {
   "cell_type": "code",
   "execution_count": 2,
   "id": "3e62f626-2434-4de7-8897-1d62ac39963d",
   "metadata": {},
   "outputs": [],
   "source": [
    "import numpy as np\n",
    "import sympy as sp\n",
    "from sympy import *\n",
    "import matplotlib.pyplot as plt\n",
    "import math\n"
   ]
  },
  {
   "cell_type": "code",
   "execution_count": null,
   "id": "e61ef8c1-effa-413a-88a5-bfe8f9ea6efd",
   "metadata": {},
   "outputs": [],
   "source": [
    "# zadaite funksiu runge f(x) = 1 / (1 + 25x^2) .......\n",
    "\n",
    "def f(x):\n",
    "    return 1 / (1 + 25 * x**2)\n",
    "\n",
    "def lagrange(t, x, y):\n",
    "    lagr = 0\n",
    "    for i in range(len(x)):\n",
    "        y = y[i]\n",
    "        for k in range(len(x)):\n",
    "            if (i != k): y = y * (t - x[k]) / (x[i] - x[k])"
   ]
  }
 ],
 "metadata": {
  "kernelspec": {
   "display_name": "Python 3 (ipykernel)",
   "language": "python",
   "name": "python3"
  },
  "language_info": {
   "codemirror_mode": {
    "name": "ipython",
    "version": 3
   },
   "file_extension": ".py",
   "mimetype": "text/x-python",
   "name": "python",
   "nbconvert_exporter": "python",
   "pygments_lexer": "ipython3",
   "version": "3.12.2"
  }
 },
 "nbformat": 4,
 "nbformat_minor": 5
}
