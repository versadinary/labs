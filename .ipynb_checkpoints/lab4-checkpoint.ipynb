{
 "cells": [
  {
   "cell_type": "code",
   "execution_count": 1,
   "id": "995ac8c7-ec0f-4bc0-9de5-538901da8768",
   "metadata": {},
   "outputs": [],
   "source": [
    "# lab4 diff func\n",
    "import numpy as np\n",
    "import sympy as sp\n",
    "import matplotlib.pyplot as plt\n",
    "import math\n"
   ]
  },
  {
   "cell_type": "code",
   "execution_count": 5,
   "id": "9af456c2-b3ef-4d5d-8f47-6c2d49b6c901",
   "metadata": {},
   "outputs": [
    {
     "name": "stdout",
     "output_type": "stream",
     "text": [
      "Значение производной в точке 1.5 при точности 0.001: 40.169847947428934\n",
      "Значение производной в точке 1.5 при точности 1e-06: 40.171072602272034\n"
     ]
    }
   ],
   "source": [
    "# naidite znachenie proizvodnoy f(x) v tochke ..... \n",
    "\n",
    "def f(x):\n",
    "    return np.e**(2 * x) # your function goes here\n",
    "\n",
    "def df(f, x, eps):\n",
    "    d1, d2, h = 1, 0, 1\n",
    "    while (np.abs(d1 - d2) > eps):\n",
    "        d1 = (f(x) - f(x - h)) / h\n",
    "        h /= 2\n",
    "        d2 = (f(x) - f(x - h)) / h\n",
    "    return d1\n",
    "\n",
    "eps1, eps2 = 10**(-3), 10**(-6)\n",
    "xi = 1.5 # your xi goes here\n",
    "print(f'Значение производной в точке {xi} при точности {eps1}: {df(f, xi, eps1)}')\n",
    "print(f'Значение производной в точке {xi} при точности {eps2}: {df(f, xi, eps2)}')"
   ]
  },
  {
   "cell_type": "code",
   "execution_count": null,
   "id": "7a9797cb-bb5c-40b4-9fc7-0eb0acb3ca64",
   "metadata": {},
   "outputs": [],
   "source": [
    "# vyberite funkciyu i tochku kak ukazano .. .. \n",
    "\n",
    "def f(x):\n",
    "    return np.e**(2 * x) # your function goes here\n",
    "\n",
    "def df1(f, x, h):\n",
    "    return (f(x) - f(x - h)) / h\n",
    "\n",
    "def df2(f, x, h):\n",
    "    return (f(x + h) - f(x - h)) / 2 / h\n",
    "\n"
   ]
  }
 ],
 "metadata": {
  "kernelspec": {
   "display_name": "Python 3 (ipykernel)",
   "language": "python",
   "name": "python3"
  },
  "language_info": {
   "codemirror_mode": {
    "name": "ipython",
    "version": 3
   },
   "file_extension": ".py",
   "mimetype": "text/x-python",
   "name": "python",
   "nbconvert_exporter": "python",
   "pygments_lexer": "ipython3",
   "version": "3.12.2"
  }
 },
 "nbformat": 4,
 "nbformat_minor": 5
}
